{
  "nbformat": 4,
  "nbformat_minor": 0,
  "metadata": {
    "colab": {
      "name": "web_scrapping_through_python .ipynb",
      "provenance": [],
      "authorship_tag": "ABX9TyPvmUQGBOZa8/rKwbgXWfGQ",
      "include_colab_link": true
    },
    "kernelspec": {
      "name": "python3",
      "display_name": "Python 3"
    }
  },
  "cells": [
    {
      "cell_type": "markdown",
      "metadata": {
        "id": "view-in-github",
        "colab_type": "text"
      },
      "source": [
        "<a href=\"https://colab.research.google.com/github/MAKTHALA-SAI-ARJUN/WEB_SCRAPPING/blob/main/web_scrapping_through_python_.ipynb\" target=\"_parent\"><img src=\"https://colab.research.google.com/assets/colab-badge.svg\" alt=\"Open In Colab\"/></a>"
      ]
    },
    {
      "cell_type": "code",
      "metadata": {
        "id": "gjZYky024KwW"
      },
      "source": [
        "import bs4 as bs\n",
        "import urllib.request as url_x\n",
        "import pandas as pd\n"
      ],
      "execution_count": 1,
      "outputs": []
    },
    {
      "cell_type": "code",
      "metadata": {
        "colab": {
          "base_uri": "https://localhost:8080/"
        },
        "id": "b0-gox9k4oNr",
        "outputId": "eabd926e-a219-4a23-c756-b687a06712a0"
      },
      "source": [
        "BusinessNames=[]\n",
        "Phone=[]\n",
        "Address=[]\n",
        "Urls=[]\n",
        "state_name = input('Enter State name here:')\n",
        "print('Process Ignited')\n",
        "\n"
      ],
      "execution_count": 2,
      "outputs": [
        {
          "output_type": "stream",
          "text": [
            "Enter State name here:alabama\n",
            "Process Ignited\n"
          ],
          "name": "stdout"
        }
      ]
    },
    {
      "cell_type": "code",
      "metadata": {
        "colab": {
          "base_uri": "https://localhost:8080/"
        },
        "id": "s40s30Vz5Dvl",
        "outputId": "fca37cf3-8d5c-40ee-eb5c-c8336cd7ec82"
      },
      "source": [
        "url='https://www.yelp.com/search?find_desc=Restaurants&find_near=alabama-state-capitol-montgomery'\n",
        "\n",
        "urlsource=''+url+'&next='\n",
        "no_of_pages=5\n",
        "for iteration in range(no_of_pages):\n",
        "  s=iteration*10\n",
        "  if(s==0):\n",
        "    s=1\n",
        "  source = url_x.urlopen(urlsource+str(s))\n",
        "  print(urlsource+str(s))\n",
        "\n",
        "  page_soup = bs.BeautifulSoup(source, 'html.parser')\n",
        "  mains = page_soup.find_all(\"div\", {\"class\": \" scrollablePhotos__09f24__1PpB8 arrange__09f24__AiSIM border-color--default__09f24__R1nRO\"})\n",
        "  for main in mains:\n",
        "    try:\n",
        "      busname = main.find(\"a\", {\"class\" : \" link__09f24__1kwXV link-color--inherit__09f24__3PYlA link-size--inherit__09f24__2Uj95\"}).text\n",
        "      BusinessNames.append(busname)\n",
        "      pnumber = main.find(\"p\", {\"class\" : \" text__09f24__2tZKC text-color--black-extra-light__09f24__38DtK text-align--right__09f24__1TIxB text-size--small__09f24__1Z_UI\"}).text\n",
        "      Phone.append(pnumber)\n",
        "      address = main.find(\"span\", {\"class\" : \" raw__09f24__3Obuy\"}).text\n",
        "      Address.append(address)\n",
        "      url = main.find(\"a\", {\"class\" : \" link__09f24__1kwXV link-color--inherit__09f24__3PYlA link-size--inherit__09f24__2Uj95\"})['href']\n",
        "      Urls.append(\"yelp.com\" + url)\n",
        "    except:\n",
        "      print(None)\n",
        "  print('Loading......')\n",
        "print('Done with processing')\n"
      ],
      "execution_count": 7,
      "outputs": [
        {
          "output_type": "stream",
          "text": [
            "https://www.yelp.com/search?find_desc=Restaurants&find_near=alabama-state-capitol-montgomery&next=1\n",
            "Loading......\n",
            "https://www.yelp.com/search?find_desc=Restaurants&find_near=alabama-state-capitol-montgomery&next=10\n",
            "Loading......\n",
            "https://www.yelp.com/search?find_desc=Restaurants&find_near=alabama-state-capitol-montgomery&next=20\n",
            "Loading......\n",
            "https://www.yelp.com/search?find_desc=Restaurants&find_near=alabama-state-capitol-montgomery&next=30\n",
            "Loading......\n",
            "https://www.yelp.com/search?find_desc=Restaurants&find_near=alabama-state-capitol-montgomery&next=40\n",
            "Loading......\n",
            "Done with processing\n"
          ],
          "name": "stdout"
        }
      ]
    },
    {
      "cell_type": "code",
      "metadata": {
        "id": "URI242UW5jdG"
      },
      "source": [
        "dictionary = {'BusinessNames': BusinessNames, 'Address': Address, 'State': state_name, 'Phone': Phone,  'Urls': Urls} \n",
        "\n",
        "df=pd.DataFrame(dict([(k,pd.Series(v)) for k,v in dictionary.items()]))\n"
      ],
      "execution_count": 8,
      "outputs": []
    },
    {
      "cell_type": "code",
      "metadata": {
        "colab": {
          "base_uri": "https://localhost:8080/"
        },
        "id": "l7wlt-oB7HDw",
        "outputId": "d606224d-c5d0-4938-98d2-4a601e4a3dee"
      },
      "source": [
        "\n",
        "df.to_csv(''+state_name+'.csv',encoding='utf-8-sig')\n",
        "print('saved as a file')\n"
      ],
      "execution_count": 9,
      "outputs": [
        {
          "output_type": "stream",
          "text": [
            "saved as a file\n"
          ],
          "name": "stdout"
        }
      ]
    },
    {
      "cell_type": "code",
      "metadata": {
        "colab": {
          "base_uri": "https://localhost:8080/",
          "height": 17
        },
        "id": "1ejnnXPD7LD_",
        "outputId": "b11d6bda-ac39-44a2-eb42-9d97843c6354"
      },
      "source": [
        "\n",
        "from google.colab import files\n",
        "files.download(''+state_name+'.csv')\n"
      ],
      "execution_count": 10,
      "outputs": [
        {
          "output_type": "display_data",
          "data": {
            "application/javascript": [
              "\n",
              "    async function download(id, filename, size) {\n",
              "      if (!google.colab.kernel.accessAllowed) {\n",
              "        return;\n",
              "      }\n",
              "      const div = document.createElement('div');\n",
              "      const label = document.createElement('label');\n",
              "      label.textContent = `Downloading \"${filename}\": `;\n",
              "      div.appendChild(label);\n",
              "      const progress = document.createElement('progress');\n",
              "      progress.max = size;\n",
              "      div.appendChild(progress);\n",
              "      document.body.appendChild(div);\n",
              "\n",
              "      const buffers = [];\n",
              "      let downloaded = 0;\n",
              "\n",
              "      const channel = await google.colab.kernel.comms.open(id);\n",
              "      // Send a message to notify the kernel that we're ready.\n",
              "      channel.send({})\n",
              "\n",
              "      for await (const message of channel.messages) {\n",
              "        // Send a message to notify the kernel that we're ready.\n",
              "        channel.send({})\n",
              "        if (message.buffers) {\n",
              "          for (const buffer of message.buffers) {\n",
              "            buffers.push(buffer);\n",
              "            downloaded += buffer.byteLength;\n",
              "            progress.value = downloaded;\n",
              "          }\n",
              "        }\n",
              "      }\n",
              "      const blob = new Blob(buffers, {type: 'application/binary'});\n",
              "      const a = document.createElement('a');\n",
              "      a.href = window.URL.createObjectURL(blob);\n",
              "      a.download = filename;\n",
              "      div.appendChild(a);\n",
              "      a.click();\n",
              "      div.remove();\n",
              "    }\n",
              "  "
            ],
            "text/plain": [
              "<IPython.core.display.Javascript object>"
            ]
          },
          "metadata": {
            "tags": []
          }
        },
        {
          "output_type": "display_data",
          "data": {
            "application/javascript": [
              "download(\"download_20e510fe-f0f2-48d8-8197-a4360defd907\", \"alabama.csv\", 17719)"
            ],
            "text/plain": [
              "<IPython.core.display.Javascript object>"
            ]
          },
          "metadata": {
            "tags": []
          }
        }
      ]
    },
    {
      "cell_type": "code",
      "metadata": {
        "id": "SyGssCKs7ORA"
      },
      "source": [
        ""
      ],
      "execution_count": null,
      "outputs": []
    }
  ]
}